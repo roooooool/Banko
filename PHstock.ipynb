{
  "nbformat": 4,
  "nbformat_minor": 0,
  "metadata": {
    "colab": {
      "provenance": [],
      "authorship_tag": "ABX9TyNb180qbPWXEg1uEqefXqCk",
      "include_colab_link": true
    },
    "kernelspec": {
      "name": "python3",
      "display_name": "Python 3"
    },
    "language_info": {
      "name": "python"
    }
  },
  "cells": [
    {
      "cell_type": "markdown",
      "metadata": {
        "id": "view-in-github",
        "colab_type": "text"
      },
      "source": [
        "<a href=\"https://colab.research.google.com/github/roooooool/Banko/blob/main/PHstock.ipynb\" target=\"_parent\"><img src=\"https://colab.research.google.com/assets/colab-badge.svg\" alt=\"Open In Colab\"/></a>"
      ]
    },
    {
      "cell_type": "code",
      "source": [
        "from datetime import date, timedelta, datetime\n",
        "from dateutil.relativedelta import relativedelta\n",
        "\n",
        "# minus 1 year\n",
        "def gettime():\n",
        "  beforeTimeDate = (datetime.now() - relativedelta(years=0,months=1))   #get date 30 days before now\n",
        "  before_date = beforeTimeDate.strftime('%Y-%m-%d')\n",
        "\n",
        "  current_date = date.today().isoformat()                      #get date now\n",
        "\n",
        "  r = [before_date,current_date]\n",
        "  print(before_date)\n",
        "  print(current_date)\n",
        "\n",
        "  return r"
      ],
      "metadata": {
        "id": "qQ6LahrxvMGm"
      },
      "execution_count": 205,
      "outputs": []
    },
    {
      "cell_type": "code",
      "source": [
        "# Import smtplib for the actual sending function\n",
        "import smtplib\n",
        "from email.mime.text import MIMEText\n",
        "import io\n",
        "from email.encoders import encode_base64\n",
        "from email.mime.base import MIMEBase\n",
        "from email.mime.multipart import MIMEMultipart\n",
        "from email import encoders\n",
        "\n",
        "\n",
        "def send_email(subject, body, sender, recipients, password):  #method for sending email\n",
        "  msg = MIMEMultipart()\n",
        "  msg['Subject'] = subject          #subject\n",
        "  msg['From'] = sender              #sender\n",
        "  msg['To'] = ', '.join(recipients) #recipient\n",
        "\n",
        "  html_part = MIMEText(body)\n",
        "  msg.attach(html_part) #body text\n",
        "\n",
        "  part = MIMEBase('application', \"octet-stream\")\n",
        "  part.set_payload(buf.read())\n",
        "  encoders.encode_base64(part)\n",
        "  part.add_header('Content-Disposition', 'attachment; filename=\"%s\"' % 'stockdata.png')\n",
        "  msg.attach(part) #attachment\n",
        "\n",
        "  with smtplib.SMTP_SSL('smtp.gmail.com', 465) as smtp_server:\n",
        "      smtp_server.login(sender, password)\n",
        "      smtp_server.sendmail(sender, recipients, msg.as_string())\n",
        "  print(\"Message sent!\")\n"
      ],
      "metadata": {
        "id": "BuTAxbjF6c8I"
      },
      "execution_count": 138,
      "outputs": []
    },
    {
      "cell_type": "code",
      "source": [
        "from matplotlib import pyplot as plt # Import pyplot from the matplotlib module\n",
        "import pandas as pd\n",
        "from fastquant import get_pse_data\n",
        "from fastquant import get_crypto_data\n",
        "from fastquant import backtest\n",
        "import io\n",
        "import time\n",
        "import yfinance as yf\n",
        "\n",
        "buf = io.BytesIO()\n",
        "\n",
        "starttime = time.monotonic()\n",
        "count = 1\n",
        "while True:\n",
        "  print(f\"tick\",count)\n",
        "  datedet = gettime()\n",
        "  current_date = datedet[1]\n",
        "  before_date =  datedet[0]\n",
        "  stock = \"TSLA\";\n",
        "  df\n",
        "\n",
        "  #get the pricing data of {stock} Company\n",
        "  try:\n",
        "    df = closing_price(stock)\n",
        "    title_text = f\"Daily Closing Prices of {stock}\\nfrom {before_date} to {current_date}\"\n",
        "\n",
        "    plt.title(title_text, fontsize=20)\n",
        "    plt.plot(df)\n",
        "\n",
        "    dff = yf.Ticker(stock)\n",
        "\n",
        "    # create a new figure\n",
        "    plt.title(title_text, fontsize=20)\n",
        "    plt.savefig(buf, format = 'png')\n",
        "    buf.seek(0)\n",
        "\n",
        "    # send email\n",
        "    subject = f\"Daily Closing Prices of {stock}\\nfrom {before_date} to {current_date}\"\n",
        "    body = str(dff.get_shares_full(start=datedet[0], end=None))\n",
        "    sender = \"christianerrolapolinariosinag@gmail.com\"\n",
        "    recipients = [\"euclidezlahnezyx@gmail.com\",\"aaron.opinaldo59@gmail.com\",\"romel.roco@santaisabel.edu.ph\"]\n",
        "    password = \"alfj ylal zbji ayqy\"\n",
        "\n",
        "    send_email(subject, body, sender, recipients, password)\n",
        "\n",
        "  except:\n",
        "    print(\"There's no changes in stock prices as of now\") #if there's no data returned\n",
        "\n",
        "  time.sleep((60.0*6*5) - ((time.monotonic() - starttime) % (60.0)))\n",
        "  count+=1"
      ],
      "metadata": {
        "id": "NlhUvjqIrEnY"
      },
      "execution_count": null,
      "outputs": []
    },
    {
      "cell_type": "code",
      "source": [
        "import yfinance as yf\n",
        "def closing_price(ticker):\n",
        "    datedet = gettime()\n",
        "    Asset = pd.DataFrame(yf.download(ticker, start=datedet[0],\n",
        "      end=datedet[1])['Adj Close'])\n",
        "    return Asset"
      ],
      "metadata": {
        "id": "PBQaBI0wp67w"
      },
      "execution_count": 207,
      "outputs": []
    }
  ]
}